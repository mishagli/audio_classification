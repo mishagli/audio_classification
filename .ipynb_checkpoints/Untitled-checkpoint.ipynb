{
 "cells": [
  {
   "cell_type": "code",
   "execution_count": 2,
   "metadata": {},
   "outputs": [
    {
     "name": "stdout",
     "output_type": "stream",
     "text": [
      "|-------------------------------------------------------------------------------\n",
      "|29-Apr-2020 00:10:42.608 --- INFO: ===== Model: VGGish, features: log_mel. Mode: train =====\n",
      "|-------------------------------------------------------------------------------\n",
      "|29-Apr-2020 00:10:42.725 --- INFO: Number of trainable parameters: 18888041\n",
      "|29-Apr-2020 00:10:42.736 --- INFO: CUDA is not available. CPU will be used instead\n",
      "|-------------------------------------------------------------------------------\n",
      "|29-Apr-2020 00:10:42.738 --- INFO: Loading data from\n",
      "|Storage/features/log_mel/train.h5...\n",
      "Traceback (most recent call last):\n",
      "  File \"main.py\", line 107, in <module>\n",
      "    main()\n",
      "  File \"main.py\", line 71, in main\n",
      "    train(\n",
      "  File \"/home/data/Deep_Learning/Project/Code/audio_classification/src/main_utils.py\", line 244, in train\n",
      "    data_generator = DataGenerator(params, validate=validate)\n",
      "  File \"/home/data/Deep_Learning/Project/Code/audio_classification/src/data_generators.py\", line 39, in __init__\n",
      "    labels = hdf5['label'][:]\n",
      "  File \"h5py/_objects.pyx\", line 54, in h5py._objects.with_phil.wrapper\n",
      "  File \"h5py/_objects.pyx\", line 55, in h5py._objects.with_phil.wrapper\n",
      "  File \"/home/data/Deep_Learning/Project/Code/audio_classification/.venv/lib/python3.8/site-packages/h5py/_hl/group.py\", line 264, in __getitem__\n",
      "    oid = h5o.open(self.id, self._e(name), lapl=self._lapl)\n",
      "  File \"h5py/_objects.pyx\", line 54, in h5py._objects.with_phil.wrapper\n",
      "  File \"h5py/_objects.pyx\", line 55, in h5py._objects.with_phil.wrapper\n",
      "  File \"h5py/h5o.pyx\", line 190, in h5py.h5o.open\n",
      "KeyError: \"Unable to open object (object 'label' doesn't exist)\"\n"
     ]
    }
   ],
   "source": [
    "!python main.py train --model=VGGish --features=log_mel --validate --manually_verified_only --shuffle --cuda --verbose"
   ]
  },
  {
   "cell_type": "code",
   "execution_count": null,
   "metadata": {},
   "outputs": [],
   "source": []
  }
 ],
 "metadata": {
  "kernelspec": {
   "display_name": "Python 3",
   "language": "python",
   "name": "python3"
  },
  "language_info": {
   "codemirror_mode": {
    "name": "ipython",
    "version": 3
   },
   "file_extension": ".py",
   "mimetype": "text/x-python",
   "name": "python",
   "nbconvert_exporter": "python",
   "pygments_lexer": "ipython3",
   "version": "3.8.1"
  }
 },
 "nbformat": 4,
 "nbformat_minor": 4
}
