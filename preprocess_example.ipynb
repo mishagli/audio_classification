{
 "cells": [
  {
   "cell_type": "markdown",
   "metadata": {},
   "source": [
    "# Loading modules"
   ]
  },
  {
   "cell_type": "code",
   "execution_count": 59,
   "metadata": {},
   "outputs": [],
   "source": [
    "# Loading modules\n",
    "import pandas as pd\n",
    "import matplotlib.pyplot as plt"
   ]
  },
  {
   "cell_type": "code",
   "execution_count": 60,
   "metadata": {},
   "outputs": [],
   "source": [
    "%matplotlib inline"
   ]
  },
  {
   "cell_type": "code",
   "execution_count": 61,
   "metadata": {},
   "outputs": [],
   "source": [
    "# change to your local paths\n",
    "TRAIN_CSV_PATH = '../Data/FSDKaggle2018.meta/train_post_competition.csv'\n",
    "TEST_CSV_PATH = '../Data/FSDKaggle2018.meta/test_post_competition_scoring_clips.csv'\n",
    "TRAIN_DATA_PATH = '../Data/FSDKaggle2018.audio_train/'\n",
    "TEST_DATA_PATH = '../Data/FSDKaggle2018.audio_test/'"
   ]
  },
  {
   "cell_type": "markdown",
   "metadata": {},
   "source": [
    "# Loading csv data"
   ]
  },
  {
   "cell_type": "code",
   "execution_count": 62,
   "metadata": {},
   "outputs": [
    {
     "data": {
      "text/html": [
       "<div>\n",
       "<style scoped>\n",
       "    .dataframe tbody tr th:only-of-type {\n",
       "        vertical-align: middle;\n",
       "    }\n",
       "\n",
       "    .dataframe tbody tr th {\n",
       "        vertical-align: top;\n",
       "    }\n",
       "\n",
       "    .dataframe thead th {\n",
       "        text-align: right;\n",
       "    }\n",
       "</style>\n",
       "<table border=\"1\" class=\"dataframe\">\n",
       "  <thead>\n",
       "    <tr style=\"text-align: right;\">\n",
       "      <th></th>\n",
       "      <th>fname</th>\n",
       "      <th>label</th>\n",
       "      <th>manually_verified</th>\n",
       "      <th>freesound_id</th>\n",
       "      <th>license</th>\n",
       "    </tr>\n",
       "  </thead>\n",
       "  <tbody>\n",
       "    <tr>\n",
       "      <th>0</th>\n",
       "      <td>00044347.wav</td>\n",
       "      <td>Hi-hat</td>\n",
       "      <td>0</td>\n",
       "      <td>28739</td>\n",
       "      <td>Attribution</td>\n",
       "    </tr>\n",
       "    <tr>\n",
       "      <th>1</th>\n",
       "      <td>001ca53d.wav</td>\n",
       "      <td>Saxophone</td>\n",
       "      <td>1</td>\n",
       "      <td>358827</td>\n",
       "      <td>Attribution</td>\n",
       "    </tr>\n",
       "    <tr>\n",
       "      <th>2</th>\n",
       "      <td>002d256b.wav</td>\n",
       "      <td>Trumpet</td>\n",
       "      <td>0</td>\n",
       "      <td>10897</td>\n",
       "      <td>Creative Commons 0</td>\n",
       "    </tr>\n",
       "    <tr>\n",
       "      <th>3</th>\n",
       "      <td>0033e230.wav</td>\n",
       "      <td>Glockenspiel</td>\n",
       "      <td>1</td>\n",
       "      <td>325017</td>\n",
       "      <td>Attribution</td>\n",
       "    </tr>\n",
       "    <tr>\n",
       "      <th>4</th>\n",
       "      <td>00353774.wav</td>\n",
       "      <td>Cello</td>\n",
       "      <td>1</td>\n",
       "      <td>195688</td>\n",
       "      <td>Attribution</td>\n",
       "    </tr>\n",
       "    <tr>\n",
       "      <th>...</th>\n",
       "      <td>...</td>\n",
       "      <td>...</td>\n",
       "      <td>...</td>\n",
       "      <td>...</td>\n",
       "      <td>...</td>\n",
       "    </tr>\n",
       "    <tr>\n",
       "      <th>9468</th>\n",
       "      <td>ffec59fb.wav</td>\n",
       "      <td>Fireworks</td>\n",
       "      <td>0</td>\n",
       "      <td>343090</td>\n",
       "      <td>Creative Commons 0</td>\n",
       "    </tr>\n",
       "    <tr>\n",
       "      <th>9469</th>\n",
       "      <td>fff37590.wav</td>\n",
       "      <td>Hi-hat</td>\n",
       "      <td>0</td>\n",
       "      <td>33136</td>\n",
       "      <td>Attribution</td>\n",
       "    </tr>\n",
       "    <tr>\n",
       "      <th>9470</th>\n",
       "      <td>fff44ac6.wav</td>\n",
       "      <td>Laughter</td>\n",
       "      <td>0</td>\n",
       "      <td>133674</td>\n",
       "      <td>Attribution</td>\n",
       "    </tr>\n",
       "    <tr>\n",
       "      <th>9471</th>\n",
       "      <td>fff6a13d.wav</td>\n",
       "      <td>Chime</td>\n",
       "      <td>0</td>\n",
       "      <td>14640</td>\n",
       "      <td>Attribution</td>\n",
       "    </tr>\n",
       "    <tr>\n",
       "      <th>9472</th>\n",
       "      <td>fff81f55.wav</td>\n",
       "      <td>Cough</td>\n",
       "      <td>1</td>\n",
       "      <td>19117</td>\n",
       "      <td>Attribution</td>\n",
       "    </tr>\n",
       "  </tbody>\n",
       "</table>\n",
       "<p>9473 rows × 5 columns</p>\n",
       "</div>"
      ],
      "text/plain": [
       "             fname         label  manually_verified  freesound_id  \\\n",
       "0     00044347.wav        Hi-hat                  0         28739   \n",
       "1     001ca53d.wav     Saxophone                  1        358827   \n",
       "2     002d256b.wav       Trumpet                  0         10897   \n",
       "3     0033e230.wav  Glockenspiel                  1        325017   \n",
       "4     00353774.wav         Cello                  1        195688   \n",
       "...            ...           ...                ...           ...   \n",
       "9468  ffec59fb.wav     Fireworks                  0        343090   \n",
       "9469  fff37590.wav        Hi-hat                  0         33136   \n",
       "9470  fff44ac6.wav      Laughter                  0        133674   \n",
       "9471  fff6a13d.wav         Chime                  0         14640   \n",
       "9472  fff81f55.wav         Cough                  1         19117   \n",
       "\n",
       "                 license  \n",
       "0            Attribution  \n",
       "1            Attribution  \n",
       "2     Creative Commons 0  \n",
       "3            Attribution  \n",
       "4            Attribution  \n",
       "...                  ...  \n",
       "9468  Creative Commons 0  \n",
       "9469         Attribution  \n",
       "9470         Attribution  \n",
       "9471         Attribution  \n",
       "9472         Attribution  \n",
       "\n",
       "[9473 rows x 5 columns]"
      ]
     },
     "execution_count": 62,
     "metadata": {},
     "output_type": "execute_result"
    }
   ],
   "source": [
    "# loading data\n",
    "train_df = pd.read_csv(TRAIN_CSV_PATH)\n",
    "test_df = pd.read_csv(TEST_CSV_PATH)\n",
    "train_df"
   ]
  },
  {
   "cell_type": "markdown",
   "metadata": {},
   "source": [
    "# Getting number of training examples and classes"
   ]
  },
  {
   "cell_type": "code",
   "execution_count": 63,
   "metadata": {},
   "outputs": [
    {
     "name": "stdout",
     "output_type": "stream",
     "text": [
      "Shape of training dataframe: (9473, 5)\n",
      "Number of training examples: 9473\n"
     ]
    }
   ],
   "source": [
    "print('Shape of training dataframe: {}'.format(train_df.shape))\n",
    "print('Number of training examples: {}'.format(train_df.shape[0]))"
   ]
  },
  {
   "cell_type": "code",
   "execution_count": 64,
   "metadata": {},
   "outputs": [
    {
     "name": "stdout",
     "output_type": "stream",
     "text": [
      "Number of classes: 41\n",
      "Classes: ['Hi-hat' 'Saxophone' 'Trumpet' 'Glockenspiel' 'Cello' 'Knock'\n",
      " 'Gunshot_or_gunfire' 'Clarinet' 'Computer_keyboard' 'Keys_jangling'\n",
      " 'Snare_drum' 'Writing' 'Laughter' 'Tearing' 'Fart' 'Oboe' 'Flute' 'Cough'\n",
      " 'Telephone' 'Bark' 'Chime' 'Bass_drum' 'Bus' 'Squeak' 'Scissors'\n",
      " 'Harmonica' 'Gong' 'Microwave_oven' 'Burping_or_eructation' 'Double_bass'\n",
      " 'Shatter' 'Fireworks' 'Tambourine' 'Cowbell' 'Electric_piano' 'Meow'\n",
      " 'Drawer_open_or_close' 'Applause' 'Acoustic_guitar' 'Violin_or_fiddle'\n",
      " 'Finger_snapping']\n"
     ]
    }
   ],
   "source": [
    "CLASSES = train_df['label'].unique()\n",
    "CLASSES_NUMB = len(CLASSES)\n",
    "print('Number of classes: {}'.format(CLASSES_NUMB))\n",
    "print('Classes: {}'.format(CLASSES))"
   ]
  },
  {
   "cell_type": "markdown",
   "metadata": {},
   "source": [
    "# Getting info about manual verification"
   ]
  },
  {
   "cell_type": "code",
   "execution_count": 65,
   "metadata": {},
   "outputs": [
    {
     "data": {
      "text/html": [
       "<div>\n",
       "<style scoped>\n",
       "    .dataframe tbody tr th:only-of-type {\n",
       "        vertical-align: middle;\n",
       "    }\n",
       "\n",
       "    .dataframe tbody tr th {\n",
       "        vertical-align: top;\n",
       "    }\n",
       "\n",
       "    .dataframe thead th {\n",
       "        text-align: right;\n",
       "    }\n",
       "</style>\n",
       "<table border=\"1\" class=\"dataframe\">\n",
       "  <thead>\n",
       "    <tr style=\"text-align: right;\">\n",
       "      <th></th>\n",
       "      <th></th>\n",
       "      <th>n_samples</th>\n",
       "    </tr>\n",
       "    <tr>\n",
       "      <th>label</th>\n",
       "      <th>manually_verified</th>\n",
       "      <th></th>\n",
       "    </tr>\n",
       "  </thead>\n",
       "  <tbody>\n",
       "    <tr>\n",
       "      <th rowspan=\"2\" valign=\"top\">Acoustic_guitar</th>\n",
       "      <th>0</th>\n",
       "      <td>195</td>\n",
       "    </tr>\n",
       "    <tr>\n",
       "      <th>1</th>\n",
       "      <td>105</td>\n",
       "    </tr>\n",
       "    <tr>\n",
       "      <th rowspan=\"2\" valign=\"top\">Applause</th>\n",
       "      <th>0</th>\n",
       "      <td>239</td>\n",
       "    </tr>\n",
       "    <tr>\n",
       "      <th>1</th>\n",
       "      <td>61</td>\n",
       "    </tr>\n",
       "    <tr>\n",
       "      <th>Bark</th>\n",
       "      <th>0</th>\n",
       "      <td>172</td>\n",
       "    </tr>\n",
       "    <tr>\n",
       "      <th>...</th>\n",
       "      <th>...</th>\n",
       "      <td>...</td>\n",
       "    </tr>\n",
       "    <tr>\n",
       "      <th>Trumpet</th>\n",
       "      <th>1</th>\n",
       "      <td>86</td>\n",
       "    </tr>\n",
       "    <tr>\n",
       "      <th rowspan=\"2\" valign=\"top\">Violin_or_fiddle</th>\n",
       "      <th>0</th>\n",
       "      <td>50</td>\n",
       "    </tr>\n",
       "    <tr>\n",
       "      <th>1</th>\n",
       "      <td>250</td>\n",
       "    </tr>\n",
       "    <tr>\n",
       "      <th rowspan=\"2\" valign=\"top\">Writing</th>\n",
       "      <th>0</th>\n",
       "      <td>203</td>\n",
       "    </tr>\n",
       "    <tr>\n",
       "      <th>1</th>\n",
       "      <td>67</td>\n",
       "    </tr>\n",
       "  </tbody>\n",
       "</table>\n",
       "<p>82 rows × 1 columns</p>\n",
       "</div>"
      ],
      "text/plain": [
       "                                    n_samples\n",
       "label            manually_verified           \n",
       "Acoustic_guitar  0                        195\n",
       "                 1                        105\n",
       "Applause         0                        239\n",
       "                 1                         61\n",
       "Bark             0                        172\n",
       "...                                       ...\n",
       "Trumpet          1                         86\n",
       "Violin_or_fiddle 0                         50\n",
       "                 1                        250\n",
       "Writing          0                        203\n",
       "                 1                         67\n",
       "\n",
       "[82 rows x 1 columns]"
      ]
     },
     "execution_count": 65,
     "metadata": {},
     "output_type": "execute_result"
    }
   ],
   "source": [
    "# getting how many audio files (samples) are manually verified or not for each label\n",
    "manually_verified_df = train_df[['fname', 'label', 'manually_verified']].groupby(['label', 'manually_verified']).count()\n",
    "manually_verified_df.rename(columns={'fname': 'n_samples'}, inplace=True)\n",
    "manually_verified_df"
   ]
  },
  {
   "cell_type": "code",
   "execution_count": 66,
   "metadata": {},
   "outputs": [
    {
     "data": {
      "text/html": [
       "<div>\n",
       "<style scoped>\n",
       "    .dataframe tbody tr th:only-of-type {\n",
       "        vertical-align: middle;\n",
       "    }\n",
       "\n",
       "    .dataframe tbody tr th {\n",
       "        vertical-align: top;\n",
       "    }\n",
       "\n",
       "    .dataframe thead tr th {\n",
       "        text-align: left;\n",
       "    }\n",
       "\n",
       "    .dataframe thead tr:last-of-type th {\n",
       "        text-align: right;\n",
       "    }\n",
       "</style>\n",
       "<table border=\"1\" class=\"dataframe\">\n",
       "  <thead>\n",
       "    <tr>\n",
       "      <th></th>\n",
       "      <th colspan=\"2\" halign=\"left\">n_samples</th>\n",
       "    </tr>\n",
       "    <tr>\n",
       "      <th>manually_verified</th>\n",
       "      <th>0</th>\n",
       "      <th>1</th>\n",
       "    </tr>\n",
       "    <tr>\n",
       "      <th>label</th>\n",
       "      <th></th>\n",
       "      <th></th>\n",
       "    </tr>\n",
       "  </thead>\n",
       "  <tbody>\n",
       "    <tr>\n",
       "      <th>Glockenspiel</th>\n",
       "      <td>24</td>\n",
       "      <td>70</td>\n",
       "    </tr>\n",
       "    <tr>\n",
       "      <th>Scissors</th>\n",
       "      <td>36</td>\n",
       "      <td>59</td>\n",
       "    </tr>\n",
       "    <tr>\n",
       "      <th>Bus</th>\n",
       "      <td>50</td>\n",
       "      <td>59</td>\n",
       "    </tr>\n",
       "    <tr>\n",
       "      <th>Chime</th>\n",
       "      <td>49</td>\n",
       "      <td>66</td>\n",
       "    </tr>\n",
       "    <tr>\n",
       "      <th>Finger_snapping</th>\n",
       "      <td>40</td>\n",
       "      <td>77</td>\n",
       "    </tr>\n",
       "    <tr>\n",
       "      <th>Computer_keyboard</th>\n",
       "      <td>59</td>\n",
       "      <td>60</td>\n",
       "    </tr>\n",
       "    <tr>\n",
       "      <th>Telephone</th>\n",
       "      <td>8</td>\n",
       "      <td>112</td>\n",
       "    </tr>\n",
       "    <tr>\n",
       "      <th>Keys_jangling</th>\n",
       "      <td>73</td>\n",
       "      <td>66</td>\n",
       "    </tr>\n",
       "    <tr>\n",
       "      <th>Microwave_oven</th>\n",
       "      <td>79</td>\n",
       "      <td>67</td>\n",
       "    </tr>\n",
       "    <tr>\n",
       "      <th>Gunshot_or_gunfire</th>\n",
       "      <td>2</td>\n",
       "      <td>145</td>\n",
       "    </tr>\n",
       "    <tr>\n",
       "      <th>Electric_piano</th>\n",
       "      <td>76</td>\n",
       "      <td>74</td>\n",
       "    </tr>\n",
       "    <tr>\n",
       "      <th>Meow</th>\n",
       "      <td>86</td>\n",
       "      <td>69</td>\n",
       "    </tr>\n",
       "    <tr>\n",
       "      <th>Drawer_open_or_close</th>\n",
       "      <td>91</td>\n",
       "      <td>67</td>\n",
       "    </tr>\n",
       "    <tr>\n",
       "      <th>Harmonica</th>\n",
       "      <td>77</td>\n",
       "      <td>88</td>\n",
       "    </tr>\n",
       "    <tr>\n",
       "      <th>Cowbell</th>\n",
       "      <td>95</td>\n",
       "      <td>96</td>\n",
       "    </tr>\n",
       "    <tr>\n",
       "      <th>Burping_or_eructation</th>\n",
       "      <td>135</td>\n",
       "      <td>75</td>\n",
       "    </tr>\n",
       "    <tr>\n",
       "      <th>Tambourine</th>\n",
       "      <td>129</td>\n",
       "      <td>92</td>\n",
       "    </tr>\n",
       "    <tr>\n",
       "      <th>Bark</th>\n",
       "      <td>172</td>\n",
       "      <td>67</td>\n",
       "    </tr>\n",
       "    <tr>\n",
       "      <th>Cough</th>\n",
       "      <td>174</td>\n",
       "      <td>69</td>\n",
       "    </tr>\n",
       "    <tr>\n",
       "      <th>Writing</th>\n",
       "      <td>203</td>\n",
       "      <td>67</td>\n",
       "    </tr>\n",
       "    <tr>\n",
       "      <th>Knock</th>\n",
       "      <td>189</td>\n",
       "      <td>90</td>\n",
       "    </tr>\n",
       "    <tr>\n",
       "      <th>Gong</th>\n",
       "      <td>207</td>\n",
       "      <td>85</td>\n",
       "    </tr>\n",
       "    <tr>\n",
       "      <th>Oboe</th>\n",
       "      <td>200</td>\n",
       "      <td>99</td>\n",
       "    </tr>\n",
       "    <tr>\n",
       "      <th>Flute</th>\n",
       "      <td>172</td>\n",
       "      <td>128</td>\n",
       "    </tr>\n",
       "    <tr>\n",
       "      <th>Trumpet</th>\n",
       "      <td>214</td>\n",
       "      <td>86</td>\n",
       "    </tr>\n",
       "    <tr>\n",
       "      <th>Applause</th>\n",
       "      <td>239</td>\n",
       "      <td>61</td>\n",
       "    </tr>\n",
       "    <tr>\n",
       "      <th>Tearing</th>\n",
       "      <td>238</td>\n",
       "      <td>62</td>\n",
       "    </tr>\n",
       "    <tr>\n",
       "      <th>Bass_drum</th>\n",
       "      <td>233</td>\n",
       "      <td>67</td>\n",
       "    </tr>\n",
       "    <tr>\n",
       "      <th>Squeak</th>\n",
       "      <td>231</td>\n",
       "      <td>69</td>\n",
       "    </tr>\n",
       "    <tr>\n",
       "      <th>Snare_drum</th>\n",
       "      <td>230</td>\n",
       "      <td>70</td>\n",
       "    </tr>\n",
       "    <tr>\n",
       "      <th>Shatter</th>\n",
       "      <td>233</td>\n",
       "      <td>67</td>\n",
       "    </tr>\n",
       "    <tr>\n",
       "      <th>Cello</th>\n",
       "      <td>175</td>\n",
       "      <td>125</td>\n",
       "    </tr>\n",
       "    <tr>\n",
       "      <th>Saxophone</th>\n",
       "      <td>44</td>\n",
       "      <td>256</td>\n",
       "    </tr>\n",
       "    <tr>\n",
       "      <th>Clarinet</th>\n",
       "      <td>170</td>\n",
       "      <td>130</td>\n",
       "    </tr>\n",
       "    <tr>\n",
       "      <th>Double_bass</th>\n",
       "      <td>208</td>\n",
       "      <td>92</td>\n",
       "    </tr>\n",
       "    <tr>\n",
       "      <th>Laughter</th>\n",
       "      <td>212</td>\n",
       "      <td>88</td>\n",
       "    </tr>\n",
       "    <tr>\n",
       "      <th>Fart</th>\n",
       "      <td>229</td>\n",
       "      <td>71</td>\n",
       "    </tr>\n",
       "    <tr>\n",
       "      <th>Fireworks</th>\n",
       "      <td>225</td>\n",
       "      <td>75</td>\n",
       "    </tr>\n",
       "    <tr>\n",
       "      <th>Hi-hat</th>\n",
       "      <td>211</td>\n",
       "      <td>89</td>\n",
       "    </tr>\n",
       "    <tr>\n",
       "      <th>Violin_or_fiddle</th>\n",
       "      <td>50</td>\n",
       "      <td>250</td>\n",
       "    </tr>\n",
       "    <tr>\n",
       "      <th>Acoustic_guitar</th>\n",
       "      <td>195</td>\n",
       "      <td>105</td>\n",
       "    </tr>\n",
       "  </tbody>\n",
       "</table>\n",
       "</div>"
      ],
      "text/plain": [
       "                      n_samples     \n",
       "manually_verified             0    1\n",
       "label                               \n",
       "Glockenspiel                 24   70\n",
       "Scissors                     36   59\n",
       "Bus                          50   59\n",
       "Chime                        49   66\n",
       "Finger_snapping              40   77\n",
       "Computer_keyboard            59   60\n",
       "Telephone                     8  112\n",
       "Keys_jangling                73   66\n",
       "Microwave_oven               79   67\n",
       "Gunshot_or_gunfire            2  145\n",
       "Electric_piano               76   74\n",
       "Meow                         86   69\n",
       "Drawer_open_or_close         91   67\n",
       "Harmonica                    77   88\n",
       "Cowbell                      95   96\n",
       "Burping_or_eructation       135   75\n",
       "Tambourine                  129   92\n",
       "Bark                        172   67\n",
       "Cough                       174   69\n",
       "Writing                     203   67\n",
       "Knock                       189   90\n",
       "Gong                        207   85\n",
       "Oboe                        200   99\n",
       "Flute                       172  128\n",
       "Trumpet                     214   86\n",
       "Applause                    239   61\n",
       "Tearing                     238   62\n",
       "Bass_drum                   233   67\n",
       "Squeak                      231   69\n",
       "Snare_drum                  230   70\n",
       "Shatter                     233   67\n",
       "Cello                       175  125\n",
       "Saxophone                    44  256\n",
       "Clarinet                    170  130\n",
       "Double_bass                 208   92\n",
       "Laughter                    212   88\n",
       "Fart                        229   71\n",
       "Fireworks                   225   75\n",
       "Hi-hat                      211   89\n",
       "Violin_or_fiddle             50  250\n",
       "Acoustic_guitar             195  105"
      ]
     },
     "execution_count": 66,
     "metadata": {},
     "output_type": "execute_result"
    }
   ],
   "source": [
    "# transforming manually_verified data into columns\n",
    "manually_verified_unsatck_df =\\\n",
    "        manually_verified_df.unstack().reindex(manually_verified_df.unstack().sum(axis=1).sort_values().index)\n",
    "manually_verified_unsatck_df.rename(columns={'0': 'no'}, inplace=True)\n",
    "manually_verified_unsatck_df"
   ]
  },
  {
   "cell_type": "markdown",
   "metadata": {},
   "source": [
    "# Number of audio samples per class"
   ]
  },
  {
   "cell_type": "code",
   "execution_count": 67,
   "metadata": {},
   "outputs": [
    {
     "data": {
      "image/png": "[encoded data removed]",
      "text/plain": [
       "<Figure size 1152x720 with 1 Axes>"
      ]
     },
     "metadata": {
      "needs_background": "light"
     },
     "output_type": "display_data"
    }
   ],
   "source": [
    "# visualising distribution of categories\n",
    "ax = manually_verified_unsatck_df.plot(figsize=(16, 10), kind='bar', stacked=True,\n",
    "        title='Number of audio samples per category')\n",
    "ax.set_xlabel('Category')\n",
    "ax.set_ylabel('Number of samples')\n",
    "ax.legend(['manually verified: no', 'manually verified: yes'])\n",
    "plt.show()"
   ]
  },
  {
   "cell_type": "code",
   "execution_count": 68,
   "metadata": {},
   "outputs": [
    {
     "name": "stdout",
     "output_type": "stream",
     "text": [
      "Minimum number of audio samples per category: 94\n",
      "Maximum number of audio samples per category: 300\n"
     ]
    }
   ],
   "source": [
    "# please compare it using the plot above\n",
    "print('Minimum number of audio samples per category: {}'.format(min(train_df['label'].value_counts())))\n",
    "print('Maximum number of audio samples per category: {}'.format(max(train_df['label'].value_counts())))"
   ]
  },
  {
   "cell_type": "markdown",
   "metadata": {},
   "source": [
    "# Preprocessing audio using torchaudio"
   ]
  },
  {
   "cell_type": "code",
   "execution_count": 69,
   "metadata": {},
   "outputs": [],
   "source": [
    "# load audio using torch\n",
    "import torch\n",
    "import torchaudio"
   ]
  },
  {
   "cell_type": "code",
   "execution_count": 70,
   "metadata": {},
   "outputs": [],
   "source": [
    "# setting audio file name\n",
    "AFNAME_TRAIN = TRAIN_DATA_PATH + 'be8a4182.wav'\n",
    "# AFNAME = '../Data/audio_test/0b0427e2.wav'  # problematic file"
   ]
  },
  {
   "cell_type": "markdown",
   "metadata": {},
   "source": [
    "# Example: getting waveform, sampling rate and duration of audio"
   ]
  },
  {
   "cell_type": "code",
   "execution_count": 71,
   "metadata": {},
   "outputs": [],
   "source": [
    "wavedata_raw, sampling_rate_raw = torchaudio.load_wav(AFNAME_TRAIN, normalization=True)  # True is default\n",
    "duration = wavedata_raw.size()[1] / float(sampling_rate_raw)"
   ]
  },
  {
   "cell_type": "code",
   "execution_count": 72,
   "metadata": {},
   "outputs": [
    {
     "name": "stdout",
     "output_type": "stream",
     "text": [
      "Shape of wavedata [n_channels, n_frames]: torch.Size([1, 390726])\n",
      "Sampling rate of wavedata: 44100\n",
      "Duration: 8.86 s\n",
      "Wavedata: tensor([[-1., -1., -2.,  ...,  3., -2., -1.]])\n"
     ]
    }
   ],
   "source": [
    "# print raw wavedata\n",
    "print('Shape of wavedata [n_channels, n_frames]: {}'.format(wavedata_raw.size()))\n",
    "print('Sampling rate of wavedata: {}'.format(sampling_rate_raw))\n",
    "print('Duration: {} s'.format(duration))\n",
    "print('Wavedata: {}'.format(wavedata_raw))"
   ]
  },
  {
   "cell_type": "code",
   "execution_count": 73,
   "metadata": {},
   "outputs": [
    {
     "name": "stdout",
     "output_type": "stream",
     "text": [
      "Min of wavedata: -26555.0\n",
      "Max of wavedata: 26258.0\n",
      "Mean of wavedata: -0.739405632019043\n"
     ]
    }
   ],
   "source": [
    "# check whether the raw wavedata tensor is in the interval [-1, 1]\n",
    "print('Min of wavedata: {}'.format(wavedata_raw.min()))\n",
    "print('Max of wavedata: {}'.format(wavedata_raw.max()))\n",
    "print('Mean of wavedata: {}'.format(wavedata_raw.mean()))"
   ]
  },
  {
   "cell_type": "code",
   "execution_count": 74,
   "metadata": {},
   "outputs": [
    {
     "data": {
      "image/png": "[encoded data removed]",
      "text/plain": [
       "<Figure size 432x288 with 1 Axes>"
      ]
     },
     "metadata": {
      "needs_background": "light"
     },
     "output_type": "display_data"
    }
   ],
   "source": [
    "# plot raw wavedata\n",
    "plt.figure()\n",
    "plt.plot(wavedata_raw.t().numpy())\n",
    "plt.xlabel('Number of frames')\n",
    "plt.show()"
   ]
  },
  {
   "cell_type": "markdown",
   "metadata": {},
   "source": [
    "# Example of resampling audio"
   ]
  },
  {
   "cell_type": "code",
   "execution_count": 75,
   "metadata": {},
   "outputs": [],
   "source": [
    "# we may need to resample the data\n",
    "NEW_SAMPLING_RATE = 16000\n",
    "RESAMPLE = torchaudio.transforms.Resample(sampling_rate_raw, NEW_SAMPLING_RATE)\n",
    "wavedata_resampled = RESAMPLE(wavedata_raw[0, :].view(1, -1))\n",
    "duration = wavedata_resampled.size()[1] / RESAMPLE.new_freq"
   ]
  },
  {
   "cell_type": "code",
   "execution_count": 76,
   "metadata": {},
   "outputs": [
    {
     "name": "stdout",
     "output_type": "stream",
     "text": [
      "Resampled data of be8a4182.wav:\n",
      "Shape of wavedata [n_channels, n_frames]: torch.Size([1, 141760])\n",
      "Sampling rate of wavedata: 16000\n",
      "Duration: 8.86 s\n",
      "Wavedata: tensor([[-0.8704, -1.1086,  0.3846,  ...,  0.5111, -0.6013,  0.3205]])\n"
     ]
    }
   ],
   "source": [
    "# print resampled wavedata\n",
    "print('Resampled data of {}:'.format(AFNAME_TRAIN.split('/')[-1]))\n",
    "print('Shape of wavedata [n_channels, n_frames]: {}'.format(wavedata_resampled.size()))\n",
    "print('Sampling rate of wavedata: {}'.format(RESAMPLE.new_freq))\n",
    "print('Duration: {} s'.format(duration))\n",
    "print('Wavedata: {}'.format(wavedata_resampled))"
   ]
  },
  {
   "cell_type": "code",
   "execution_count": 77,
   "metadata": {},
   "outputs": [
    {
     "name": "stdout",
     "output_type": "stream",
     "text": [
      "Min of wavedata: -23963.07421875\n",
      "Max of wavedata: 22674.51953125\n",
      "Mean of wavedata: -0.7397621273994446\n"
     ]
    }
   ],
   "source": [
    "# check whether the resampled wavedata tensor is in the interval [-1, 1]\n",
    "print('Min of wavedata: {}'.format(wavedata_resampled.min()))\n",
    "print('Max of wavedata: {}'.format(wavedata_resampled.max()))\n",
    "print('Mean of wavedata: {}'.format(wavedata_resampled.mean()))"
   ]
  },
  {
   "cell_type": "code",
   "execution_count": 78,
   "metadata": {},
   "outputs": [
    {
     "data": {
      "image/png": "[encoded data removed]",
      "text/plain": [
       "<Figure size 432x288 with 1 Axes>"
      ]
     },
     "metadata": {
      "needs_background": "light"
     },
     "output_type": "display_data"
    }
   ],
   "source": [
    "# plot resampled wavedata\n",
    "plt.figure()\n",
    "plt.plot(wavedata_resampled.t().numpy())\n",
    "plt.xlabel('Number of frames')\n",
    "plt.show()"
   ]
  },
  {
   "cell_type": "markdown",
   "metadata": {},
   "source": [
    "# Example of normalisation"
   ]
  },
  {
   "cell_type": "code",
   "execution_count": 79,
   "metadata": {},
   "outputs": [],
   "source": [
    "# probably, we will need to normalise the data\n",
    "def normalise_waveform(waveform_tensor):\n",
    "    return waveform_tensor / waveform_tensor.abs().max()\n",
    "    # Or subtract the mean, and scale to the interval [-1, 1]\n",
    "    # wf = waveform_tensor - waveform_tensor.mean()\n",
    "    # return wf / wf.abs().max()"
   ]
  },
  {
   "cell_type": "code",
   "execution_count": 80,
   "metadata": {},
   "outputs": [],
   "source": [
    "# normalise data\n",
    "wavedata_norm = normalise_waveform(wavedata_resampled)\n",
    "duration = wavedata_norm.size()[1] / NEW_SAMPLING_RATE"
   ]
  },
  {
   "cell_type": "code",
   "execution_count": 81,
   "metadata": {},
   "outputs": [
    {
     "name": "stdout",
     "output_type": "stream",
     "text": [
      "Normalised data of be8a4182.wav:\n",
      "Shape of wavedata [n_channels, n_frames]: torch.Size([1, 141760])\n",
      "Sampling rate of wavedata: 16000\n",
      "Duration: 8.86 s\n",
      "Wavedata: tensor([[-3.6322e-05, -4.6264e-05,  1.6050e-05,  ...,  2.1330e-05,\n",
      "         -2.5091e-05,  1.3376e-05]])\n"
     ]
    }
   ],
   "source": [
    "# print resampled wavedata\n",
    "print('Normalised data of {}:'.format(AFNAME_TRAIN.split('/')[-1]))\n",
    "print('Shape of wavedata [n_channels, n_frames]: {}'.format(wavedata_norm.size()))\n",
    "print('Sampling rate of wavedata: {}'.format(NEW_SAMPLING_RATE))\n",
    "print('Duration: {} s'.format(duration))\n",
    "print('Wavedata: {}'.format(wavedata_norm))"
   ]
  },
  {
   "cell_type": "code",
   "execution_count": 82,
   "metadata": {},
   "outputs": [
    {
     "name": "stdout",
     "output_type": "stream",
     "text": [
      "Min of wavedata: -1.0\n",
      "Max of wavedata: 0.946227490901947\n",
      "Mean of wavedata: -3.08709786622785e-05\n"
     ]
    }
   ],
   "source": [
    "# check whether the normalised wavedata tensor is in the interval [-1, 1]\n",
    "print('Min of wavedata: {}'.format(wavedata_norm.min()))\n",
    "print('Max of wavedata: {}'.format(wavedata_norm.max()))\n",
    "print('Mean of wavedata: {}'.format(wavedata_norm.mean()))"
   ]
  },
  {
   "cell_type": "code",
   "execution_count": 83,
   "metadata": {},
   "outputs": [
    {
     "data": {
      "image/png": "[encoded data removed]",
      "text/plain": [
       "<Figure size 432x288 with 1 Axes>"
      ]
     },
     "metadata": {
      "needs_background": "light"
     },
     "output_type": "display_data"
    }
   ],
   "source": [
    "# plot resampled wavedata\n",
    "plt.figure()\n",
    "plt.plot(wavedata_norm.t().numpy())\n",
    "plt.xlabel('Number of frames')\n",
    "plt.show()"
   ]
  },
  {
   "cell_type": "markdown",
   "metadata": {},
   "source": [
    "# Getting raw data of all train audio files"
   ]
  },
  {
   "cell_type": "code",
   "execution_count": 84,
   "metadata": {},
   "outputs": [],
   "source": [
    "# function that returns all (hopefully) necessary raw train data of audio files\n",
    "def get_raw_audio_data(filename):\n",
    "    wavedata, sampling_rate = torchaudio.load_wav(TRAIN_DATA_PATH + filename)  # load raw data\n",
    "    duration = wavedata.size()[1] / sampling_rate\n",
    "    n_channels, n_frames = wavedata.size()\n",
    "    return n_channels, n_frames, sampling_rate, duration"
   ]
  },
  {
   "cell_type": "code",
   "execution_count": 85,
   "metadata": {},
   "outputs": [
    {
     "data": {
      "text/html": [
       "<div>\n",
       "<style scoped>\n",
       "    .dataframe tbody tr th:only-of-type {\n",
       "        vertical-align: middle;\n",
       "    }\n",
       "\n",
       "    .dataframe tbody tr th {\n",
       "        vertical-align: top;\n",
       "    }\n",
       "\n",
       "    .dataframe thead th {\n",
       "        text-align: right;\n",
       "    }\n",
       "</style>\n",
       "<table border=\"1\" class=\"dataframe\">\n",
       "  <thead>\n",
       "    <tr style=\"text-align: right;\">\n",
       "      <th></th>\n",
       "      <th>fname</th>\n",
       "      <th>label</th>\n",
       "      <th>manually_verified</th>\n",
       "      <th>freesound_id</th>\n",
       "      <th>license</th>\n",
       "      <th>n_channels</th>\n",
       "      <th>n_frames</th>\n",
       "      <th>sample_rate</th>\n",
       "      <th>duration</th>\n",
       "    </tr>\n",
       "  </thead>\n",
       "  <tbody>\n",
       "    <tr>\n",
       "      <th>0</th>\n",
       "      <td>00044347.wav</td>\n",
       "      <td>Hi-hat</td>\n",
       "      <td>0</td>\n",
       "      <td>28739</td>\n",
       "      <td>Attribution</td>\n",
       "      <td>1</td>\n",
       "      <td>617400</td>\n",
       "      <td>44100</td>\n",
       "      <td>14.00</td>\n",
       "    </tr>\n",
       "    <tr>\n",
       "      <th>1</th>\n",
       "      <td>001ca53d.wav</td>\n",
       "      <td>Saxophone</td>\n",
       "      <td>1</td>\n",
       "      <td>358827</td>\n",
       "      <td>Attribution</td>\n",
       "      <td>1</td>\n",
       "      <td>455112</td>\n",
       "      <td>44100</td>\n",
       "      <td>10.32</td>\n",
       "    </tr>\n",
       "    <tr>\n",
       "      <th>2</th>\n",
       "      <td>002d256b.wav</td>\n",
       "      <td>Trumpet</td>\n",
       "      <td>0</td>\n",
       "      <td>10897</td>\n",
       "      <td>Creative Commons 0</td>\n",
       "      <td>1</td>\n",
       "      <td>19404</td>\n",
       "      <td>44100</td>\n",
       "      <td>0.44</td>\n",
       "    </tr>\n",
       "    <tr>\n",
       "      <th>3</th>\n",
       "      <td>0033e230.wav</td>\n",
       "      <td>Glockenspiel</td>\n",
       "      <td>1</td>\n",
       "      <td>325017</td>\n",
       "      <td>Attribution</td>\n",
       "      <td>1</td>\n",
       "      <td>352800</td>\n",
       "      <td>44100</td>\n",
       "      <td>8.00</td>\n",
       "    </tr>\n",
       "    <tr>\n",
       "      <th>4</th>\n",
       "      <td>00353774.wav</td>\n",
       "      <td>Cello</td>\n",
       "      <td>1</td>\n",
       "      <td>195688</td>\n",
       "      <td>Attribution</td>\n",
       "      <td>1</td>\n",
       "      <td>199332</td>\n",
       "      <td>44100</td>\n",
       "      <td>4.52</td>\n",
       "    </tr>\n",
       "    <tr>\n",
       "      <th>...</th>\n",
       "      <td>...</td>\n",
       "      <td>...</td>\n",
       "      <td>...</td>\n",
       "      <td>...</td>\n",
       "      <td>...</td>\n",
       "      <td>...</td>\n",
       "      <td>...</td>\n",
       "      <td>...</td>\n",
       "      <td>...</td>\n",
       "    </tr>\n",
       "    <tr>\n",
       "      <th>9468</th>\n",
       "      <td>ffec59fb.wav</td>\n",
       "      <td>Fireworks</td>\n",
       "      <td>0</td>\n",
       "      <td>343090</td>\n",
       "      <td>Creative Commons 0</td>\n",
       "      <td>1</td>\n",
       "      <td>516852</td>\n",
       "      <td>44100</td>\n",
       "      <td>11.72</td>\n",
       "    </tr>\n",
       "    <tr>\n",
       "      <th>9469</th>\n",
       "      <td>fff37590.wav</td>\n",
       "      <td>Hi-hat</td>\n",
       "      <td>0</td>\n",
       "      <td>33136</td>\n",
       "      <td>Attribution</td>\n",
       "      <td>1</td>\n",
       "      <td>34398</td>\n",
       "      <td>44100</td>\n",
       "      <td>0.78</td>\n",
       "    </tr>\n",
       "    <tr>\n",
       "      <th>9470</th>\n",
       "      <td>fff44ac6.wav</td>\n",
       "      <td>Laughter</td>\n",
       "      <td>0</td>\n",
       "      <td>133674</td>\n",
       "      <td>Attribution</td>\n",
       "      <td>1</td>\n",
       "      <td>377496</td>\n",
       "      <td>44100</td>\n",
       "      <td>8.56</td>\n",
       "    </tr>\n",
       "    <tr>\n",
       "      <th>9471</th>\n",
       "      <td>fff6a13d.wav</td>\n",
       "      <td>Chime</td>\n",
       "      <td>0</td>\n",
       "      <td>14640</td>\n",
       "      <td>Attribution</td>\n",
       "      <td>1</td>\n",
       "      <td>736470</td>\n",
       "      <td>44100</td>\n",
       "      <td>16.70</td>\n",
       "    </tr>\n",
       "    <tr>\n",
       "      <th>9472</th>\n",
       "      <td>fff81f55.wav</td>\n",
       "      <td>Cough</td>\n",
       "      <td>1</td>\n",
       "      <td>19117</td>\n",
       "      <td>Attribution</td>\n",
       "      <td>1</td>\n",
       "      <td>33516</td>\n",
       "      <td>44100</td>\n",
       "      <td>0.76</td>\n",
       "    </tr>\n",
       "  </tbody>\n",
       "</table>\n",
       "<p>9473 rows × 9 columns</p>\n",
       "</div>"
      ],
      "text/plain": [
       "             fname         label  manually_verified  freesound_id  \\\n",
       "0     00044347.wav        Hi-hat                  0         28739   \n",
       "1     001ca53d.wav     Saxophone                  1        358827   \n",
       "2     002d256b.wav       Trumpet                  0         10897   \n",
       "3     0033e230.wav  Glockenspiel                  1        325017   \n",
       "4     00353774.wav         Cello                  1        195688   \n",
       "...            ...           ...                ...           ...   \n",
       "9468  ffec59fb.wav     Fireworks                  0        343090   \n",
       "9469  fff37590.wav        Hi-hat                  0         33136   \n",
       "9470  fff44ac6.wav      Laughter                  0        133674   \n",
       "9471  fff6a13d.wav         Chime                  0         14640   \n",
       "9472  fff81f55.wav         Cough                  1         19117   \n",
       "\n",
       "                 license  n_channels  n_frames  sample_rate  duration  \n",
       "0            Attribution           1    617400        44100     14.00  \n",
       "1            Attribution           1    455112        44100     10.32  \n",
       "2     Creative Commons 0           1     19404        44100      0.44  \n",
       "3            Attribution           1    352800        44100      8.00  \n",
       "4            Attribution           1    199332        44100      4.52  \n",
       "...                  ...         ...       ...          ...       ...  \n",
       "9468  Creative Commons 0           1    516852        44100     11.72  \n",
       "9469         Attribution           1     34398        44100      0.78  \n",
       "9470         Attribution           1    377496        44100      8.56  \n",
       "9471         Attribution           1    736470        44100     16.70  \n",
       "9472         Attribution           1     33516        44100      0.76  \n",
       "\n",
       "[9473 rows x 9 columns]"
      ]
     },
     "execution_count": 85,
     "metadata": {},
     "output_type": "execute_result"
    }
   ],
   "source": [
    "# it may take some time to get data of all audio files\n",
    "train_df['n_channels'], train_df['n_frames'], train_df['sample_rate'], train_df['duration'] =\\\n",
    "        zip(*train_df['fname'].map(get_raw_audio_data))\n",
    "train_df"
   ]
  },
  {
   "cell_type": "markdown",
   "metadata": {},
   "source": [
    "# Checking whether audio files have different number of channels / sampling rate"
   ]
  },
  {
   "cell_type": "code",
   "execution_count": 86,
   "metadata": {},
   "outputs": [
    {
     "name": "stdout",
     "output_type": "stream",
     "text": [
      "Channels: [1]\n"
     ]
    }
   ],
   "source": [
    "# check whether there are different number of channels\n",
    "n_channels_train = train_df['n_channels'].unique()\n",
    "print('Channels: {}'.format(n_channels_train))"
   ]
  },
  {
   "cell_type": "code",
   "execution_count": 87,
   "metadata": {},
   "outputs": [
    {
     "name": "stdout",
     "output_type": "stream",
     "text": [
      "Min number of frames: 13230\n",
      "Max number of frames: 1323000\n"
     ]
    }
   ],
   "source": [
    "# get min and max number of frames\n",
    "print('Min number of frames: {}'.format(train_df['n_frames'].min()))\n",
    "print('Max number of frames: {}'.format(train_df['n_frames'].max()))"
   ]
  },
  {
   "cell_type": "code",
   "execution_count": 88,
   "metadata": {},
   "outputs": [
    {
     "name": "stdout",
     "output_type": "stream",
     "text": [
      "Sample rates: [44100]\n"
     ]
    }
   ],
   "source": [
    "# check whether there are different sampling rates\n",
    "sample_rates_train = train_df['sample_rate'].unique()\n",
    "print('Sample rates: {}'.format(sample_rates_train))"
   ]
  },
  {
   "cell_type": "code",
   "execution_count": 89,
   "metadata": {},
   "outputs": [
    {
     "name": "stdout",
     "output_type": "stream",
     "text": [
      "Min duration: 0.3 s\n",
      "Max duration: 30.0 s\n"
     ]
    }
   ],
   "source": [
    "# get min and max duration\n",
    "print('Min duration: {} s'.format(train_df['duration'].min()))\n",
    "print('Max duration: {} s'.format(train_df['duration'].max()))"
   ]
  },
  {
   "cell_type": "markdown",
   "metadata": {},
   "source": [
    "# Getting raw data of all test audio files"
   ]
  },
  {
   "cell_type": "code",
   "execution_count": 90,
   "metadata": {},
   "outputs": [],
   "source": [
    "# get data of all test audio files\n",
    "def get_raw_audio_data_test(filename):\n",
    "    wavedata, sampling_rate = torchaudio.load_wav(TEST_DATA_PATH + filename)  # load raw data\n",
    "    duration = wavedata.size()[1] / sampling_rate\n",
    "    n_channels, n_frames = wavedata.size()\n",
    "    return n_channels, n_frames, sampling_rate, duration"
   ]
  },
  {
   "cell_type": "code",
   "execution_count": 91,
   "metadata": {},
   "outputs": [
    {
     "data": {
      "text/html": [
       "<div>\n",
       "<style scoped>\n",
       "    .dataframe tbody tr th:only-of-type {\n",
       "        vertical-align: middle;\n",
       "    }\n",
       "\n",
       "    .dataframe tbody tr th {\n",
       "        vertical-align: top;\n",
       "    }\n",
       "\n",
       "    .dataframe thead th {\n",
       "        text-align: right;\n",
       "    }\n",
       "</style>\n",
       "<table border=\"1\" class=\"dataframe\">\n",
       "  <thead>\n",
       "    <tr style=\"text-align: right;\">\n",
       "      <th></th>\n",
       "      <th>fname</th>\n",
       "      <th>label</th>\n",
       "      <th>usage</th>\n",
       "      <th>freesound_id</th>\n",
       "      <th>license</th>\n",
       "      <th>n_channels</th>\n",
       "      <th>n_frames</th>\n",
       "      <th>sample_rate</th>\n",
       "      <th>duration</th>\n",
       "    </tr>\n",
       "  </thead>\n",
       "  <tbody>\n",
       "    <tr>\n",
       "      <th>0</th>\n",
       "      <td>00326aa9.wav</td>\n",
       "      <td>Oboe</td>\n",
       "      <td>Private</td>\n",
       "      <td>355125</td>\n",
       "      <td>Attribution</td>\n",
       "      <td>1</td>\n",
       "      <td>91728</td>\n",
       "      <td>44100</td>\n",
       "      <td>2.08</td>\n",
       "    </tr>\n",
       "    <tr>\n",
       "      <th>1</th>\n",
       "      <td>0038a046.wav</td>\n",
       "      <td>Bass_drum</td>\n",
       "      <td>Private</td>\n",
       "      <td>90621</td>\n",
       "      <td>Creative Commons 0</td>\n",
       "      <td>1</td>\n",
       "      <td>171990</td>\n",
       "      <td>44100</td>\n",
       "      <td>3.90</td>\n",
       "    </tr>\n",
       "    <tr>\n",
       "      <th>2</th>\n",
       "      <td>007759c4.wav</td>\n",
       "      <td>Saxophone</td>\n",
       "      <td>Private</td>\n",
       "      <td>13406</td>\n",
       "      <td>Creative Commons 0</td>\n",
       "      <td>1</td>\n",
       "      <td>442764</td>\n",
       "      <td>44100</td>\n",
       "      <td>10.04</td>\n",
       "    </tr>\n",
       "    <tr>\n",
       "      <th>3</th>\n",
       "      <td>008afd93.wav</td>\n",
       "      <td>Saxophone</td>\n",
       "      <td>Private</td>\n",
       "      <td>358962</td>\n",
       "      <td>Attribution</td>\n",
       "      <td>1</td>\n",
       "      <td>416304</td>\n",
       "      <td>44100</td>\n",
       "      <td>9.44</td>\n",
       "    </tr>\n",
       "    <tr>\n",
       "      <th>4</th>\n",
       "      <td>00ae03f6.wav</td>\n",
       "      <td>Chime</td>\n",
       "      <td>Private</td>\n",
       "      <td>78203</td>\n",
       "      <td>Attribution</td>\n",
       "      <td>1</td>\n",
       "      <td>392490</td>\n",
       "      <td>44100</td>\n",
       "      <td>8.90</td>\n",
       "    </tr>\n",
       "    <tr>\n",
       "      <th>...</th>\n",
       "      <td>...</td>\n",
       "      <td>...</td>\n",
       "      <td>...</td>\n",
       "      <td>...</td>\n",
       "      <td>...</td>\n",
       "      <td>...</td>\n",
       "      <td>...</td>\n",
       "      <td>...</td>\n",
       "      <td>...</td>\n",
       "    </tr>\n",
       "    <tr>\n",
       "      <th>1595</th>\n",
       "      <td>ff96680f.wav</td>\n",
       "      <td>Meow</td>\n",
       "      <td>Private</td>\n",
       "      <td>352227</td>\n",
       "      <td>Attribution</td>\n",
       "      <td>1</td>\n",
       "      <td>86436</td>\n",
       "      <td>44100</td>\n",
       "      <td>1.96</td>\n",
       "    </tr>\n",
       "    <tr>\n",
       "      <th>1596</th>\n",
       "      <td>ffa69cfc.wav</td>\n",
       "      <td>Telephone</td>\n",
       "      <td>Private</td>\n",
       "      <td>66290</td>\n",
       "      <td>Attribution</td>\n",
       "      <td>1</td>\n",
       "      <td>154350</td>\n",
       "      <td>44100</td>\n",
       "      <td>3.50</td>\n",
       "    </tr>\n",
       "    <tr>\n",
       "      <th>1597</th>\n",
       "      <td>ffaca82d.wav</td>\n",
       "      <td>Scissors</td>\n",
       "      <td>Public</td>\n",
       "      <td>332471</td>\n",
       "      <td>Creative Commons 0</td>\n",
       "      <td>1</td>\n",
       "      <td>1178352</td>\n",
       "      <td>44100</td>\n",
       "      <td>26.72</td>\n",
       "    </tr>\n",
       "    <tr>\n",
       "      <th>1598</th>\n",
       "      <td>ffb6eb52.wav</td>\n",
       "      <td>Cowbell</td>\n",
       "      <td>Private</td>\n",
       "      <td>91139</td>\n",
       "      <td>Creative Commons 0</td>\n",
       "      <td>1</td>\n",
       "      <td>126126</td>\n",
       "      <td>44100</td>\n",
       "      <td>2.86</td>\n",
       "    </tr>\n",
       "    <tr>\n",
       "      <th>1599</th>\n",
       "      <td>ffba7963.wav</td>\n",
       "      <td>Clarinet</td>\n",
       "      <td>Private</td>\n",
       "      <td>248994</td>\n",
       "      <td>Attribution</td>\n",
       "      <td>1</td>\n",
       "      <td>232848</td>\n",
       "      <td>44100</td>\n",
       "      <td>5.28</td>\n",
       "    </tr>\n",
       "  </tbody>\n",
       "</table>\n",
       "<p>1600 rows × 9 columns</p>\n",
       "</div>"
      ],
      "text/plain": [
       "             fname      label    usage  freesound_id             license  \\\n",
       "0     00326aa9.wav       Oboe  Private        355125         Attribution   \n",
       "1     0038a046.wav  Bass_drum  Private         90621  Creative Commons 0   \n",
       "2     007759c4.wav  Saxophone  Private         13406  Creative Commons 0   \n",
       "3     008afd93.wav  Saxophone  Private        358962         Attribution   \n",
       "4     00ae03f6.wav      Chime  Private         78203         Attribution   \n",
       "...            ...        ...      ...           ...                 ...   \n",
       "1595  ff96680f.wav       Meow  Private        352227         Attribution   \n",
       "1596  ffa69cfc.wav  Telephone  Private         66290         Attribution   \n",
       "1597  ffaca82d.wav   Scissors   Public        332471  Creative Commons 0   \n",
       "1598  ffb6eb52.wav    Cowbell  Private         91139  Creative Commons 0   \n",
       "1599  ffba7963.wav   Clarinet  Private        248994         Attribution   \n",
       "\n",
       "      n_channels  n_frames  sample_rate  duration  \n",
       "0              1     91728        44100      2.08  \n",
       "1              1    171990        44100      3.90  \n",
       "2              1    442764        44100     10.04  \n",
       "3              1    416304        44100      9.44  \n",
       "4              1    392490        44100      8.90  \n",
       "...          ...       ...          ...       ...  \n",
       "1595           1     86436        44100      1.96  \n",
       "1596           1    154350        44100      3.50  \n",
       "1597           1   1178352        44100     26.72  \n",
       "1598           1    126126        44100      2.86  \n",
       "1599           1    232848        44100      5.28  \n",
       "\n",
       "[1600 rows x 9 columns]"
      ]
     },
     "execution_count": 91,
     "metadata": {},
     "output_type": "execute_result"
    }
   ],
   "source": [
    "test_df['n_channels'], test_df['n_frames'], test_df['sample_rate'], test_df['duration'] =\\\n",
    "        zip(*test_df['fname'].map(get_raw_audio_data_test))\n",
    "test_df"
   ]
  },
  {
   "cell_type": "markdown",
   "metadata": {},
   "source": [
    "# Checking whether audio files have different number of channels / sampling rate"
   ]
  },
  {
   "cell_type": "code",
   "execution_count": 92,
   "metadata": {},
   "outputs": [
    {
     "name": "stdout",
     "output_type": "stream",
     "text": [
      "Channels: [1]\n"
     ]
    }
   ],
   "source": [
    "# check whether there are different number of channels\n",
    "n_channels_test = test_df['n_channels'].unique()\n",
    "print('Channels: {}'.format(n_channels_test))"
   ]
  },
  {
   "cell_type": "code",
   "execution_count": 93,
   "metadata": {},
   "outputs": [
    {
     "name": "stdout",
     "output_type": "stream",
     "text": [
      "Min number of frames: 13230\n",
      "Max number of frames: 1311534\n"
     ]
    }
   ],
   "source": [
    "# get min and max number of frames\n",
    "print('Min number of frames: {}'.format(test_df['n_frames'].min()))\n",
    "print('Max number of frames: {}'.format(test_df['n_frames'].max()))"
   ]
  },
  {
   "cell_type": "code",
   "execution_count": 94,
   "metadata": {},
   "outputs": [
    {
     "name": "stdout",
     "output_type": "stream",
     "text": [
      "Sample rates: [44100]\n"
     ]
    }
   ],
   "source": [
    "# check whether there are different sampling rates\n",
    "sample_rates_test = test_df['sample_rate'].unique()\n",
    "print('Sample rates: {}'.format(sample_rates_test))"
   ]
  },
  {
   "cell_type": "code",
   "execution_count": 95,
   "metadata": {},
   "outputs": [
    {
     "name": "stdout",
     "output_type": "stream",
     "text": [
      "Min duration: 0.3 s\n",
      "Max duration: 29.74 s\n"
     ]
    }
   ],
   "source": [
    "# get min and max duration\n",
    "print('Min duration: {} s'.format(test_df['duration'].min()))\n",
    "print('Max duration: {} s'.format(test_df['duration'].max()))"
   ]
  },
  {
   "cell_type": "markdown",
   "metadata": {},
   "source": [
    "#  Frame length distribution"
   ]
  },
  {
   "cell_type": "code",
   "execution_count": 96,
   "metadata": {},
   "outputs": [
    {
     "data": {
      "image/png": "[encoded data removed]",
      "text/plain": [
       "<Figure size 1152x360 with 2 Axes>"
      ]
     },
     "metadata": {
      "needs_background": "light"
     },
     "output_type": "display_data"
    }
   ],
   "source": [
    "fig, axes = plt.subplots(nrows=1, ncols=2, figsize=(16, 5))\n",
    "train_df['n_frames'].hist(bins=100, ax=axes[0], label='train')\n",
    "test_df['n_frames'].hist(bins=100, ax=axes[1], label='test')\n",
    "[ax.legend() for ax in axes]\n",
    "plt.suptitle('Frame length distribution in train and test data', ha='center', fontsize='large')\n",
    "plt.show()"
   ]
  },
  {
   "cell_type": "markdown",
   "metadata": {},
   "source": [
    "--EOF--"
   ]
  }
 ],
 "metadata": {
  "kernelspec": {
   "display_name": "Python 3",
   "language": "python",
   "name": "python3"
  },
  "language_info": {
   "codemirror_mode": {
    "name": "ipython",
    "version": 3
   },
   "file_extension": ".py",
   "mimetype": "text/x-python",
   "name": "python",
   "nbconvert_exporter": "python",
   "pygments_lexer": "ipython3",
   "version": "3.8.1"
  }
 },
 "nbformat": 4,
 "nbformat_minor": 4
}
