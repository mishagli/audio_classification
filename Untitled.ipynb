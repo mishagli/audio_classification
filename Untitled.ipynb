{
 "cells": [
  {
   "cell_type": "code",
   "execution_count": 2,
   "metadata": {},
   "outputs": [
    {
     "name": "stdout",
     "output_type": "stream",
     "text": [
      "|-------------------------------------------------------------------------------\n",
      "|29-Apr-2020 10:09:10.721 --- INFO: ===== Model: VGGish, features: log_mel. Mode: train =====\n",
      "|-------------------------------------------------------------------------------\n",
      "|29-Apr-2020 10:09:11.138 --- INFO: Extracting features from train dataset...\n",
      "|29-Apr-2020 10:50:17.112 --- INFO: Extracting finished successfully. Elapsed time: 2465.974009 s\n",
      "|29-Apr-2020 10:50:17.140 --- INFO: The features saved to Storage/features/log_mel/train.h5\n"
     ]
    }
   ],
   "source": [
    "!python main.py train --model=VGGish --features=log_mel --validate --manually_verified_only --shuffle --cuda --verbose"
   ]
  },
  {
   "cell_type": "code",
   "execution_count": null,
   "metadata": {},
   "outputs": [],
   "source": []
  }
 ],
 "metadata": {
  "kernelspec": {
   "display_name": "Python 3",
   "language": "python",
   "name": "python3"
  },
  "language_info": {
   "codemirror_mode": {
    "name": "ipython",
    "version": 3
   },
   "file_extension": ".py",
   "mimetype": "text/x-python",
   "name": "python",
   "nbconvert_exporter": "python",
   "pygments_lexer": "ipython3",
   "version": "3.8.1"
  }
 },
 "nbformat": 4,
 "nbformat_minor": 4
}
